{
 "cells": [
  {
   "cell_type": "markdown",
   "metadata": {},
   "source": [
    "## Pipeline ETL  \n",
    "Esta pipeline ETL foi feita visando o bootcamp Santander 2022 Ciências de Dados. Com os dados obtidos de todas edições da copa do mundo até 2014, pretende-se descobrir as seleções nacionais com mais vitórias desde a primeira edição da copa do mundo, até a copa do mundo de 2014."
   ]
  },
  {
   "cell_type": "markdown",
   "metadata": {},
   "source": [
    "### Extract"
   ]
  },
  {
   "cell_type": "code",
   "execution_count": 20,
   "metadata": {},
   "outputs": [],
   "source": [
    "import pandas as pd\n",
    "\n",
    "world_cup_matches = pd.read_csv(\n",
    "  \"data/WorldCupMatches.csv\",\n",
    "  usecols=['Home Team Name', 'Home Team Goals', 'Away Team Goals', 'Away Team Name']\n",
    ")"
   ]
  },
  {
   "cell_type": "markdown",
   "metadata": {},
   "source": [
    "### Transform"
   ]
  },
  {
   "cell_type": "code",
   "execution_count": 21,
   "metadata": {},
   "outputs": [
    {
     "name": "stdout",
     "output_type": "stream",
     "text": [
      "Brazil\n",
      "[['France', 35], ['USA', 12], ['Yugoslavia', 21], ['Romania', 11], ['Argentina', 54], ['Chile', 16], ['Uruguay', 25], ['Brazil', 75], ['Paraguay', 11], ['Austria', 15], ['Hungary', 16], ['Switzerland', 14], ['Sweden', 22], ['Germany', 35], ['Spain', 34], ['Italy', 52], ['Czechoslovakia', 15], ['Cuba', 1], ['England', 35], ['Germany FR', 37], ['Belgium', 21], ['Turkey', 6], ['Wales', 4], ['Scotland', 6], ['Northern Ireland', 8], ['Soviet Union', 18], ['Colombia', 10], ['Mexico', 22], ['Bulgaria', 8], ['Portugal', 16], ['Korea DPR', 1], ['Peru', 6], ['Israel', 2], ['Morocco', 4], ['German DR', 4], ['Netherlands', 33], ['Poland', 18], ['Tunisia', 3], ['IR Iran', 1], ['Cameroon', 9], ['Algeria', 4], ['Honduras', 2], ['Kuwait', 1], ['Denmark', 9], ['Costa Rica', 7], ['rn\">Republic of Ireland', 5], ['Egypt', 2], ['Korea Republic', 11], ['Norway', 5], ['Nigeria', 6], ['Bolivia', 1], ['Saudi Arabia', 4], ['Russia', 3], ['Croatia', 8], ['Iran', 1], ['Jamaica', 1], ['Senegal', 3], ['South Africa', 3], ['Japan', 5], ['Ecuador', 4], ['Australia', 4], ['Czech Republic', 1], ['Angola', 2], ['Ghana', 6], ['Ukraine', 3], [\"C�te d'Ivoire\", 3], ['Slovenia', 1], ['Slovakia', 2], ['Greece', 5], ['Serbia', 1], ['New Zealand', 2], ['rn\">Bosnia and Herzegovina', 1]]\n",
      "[75, 54, 52, 37, 35, 35, 35, 34, 33, 25, 22, 22, 21, 21, 18, 18, 16, 16, 16, 15, 15, 14, 12, 11, 11, 11, 10, 9, 9, 8, 8, 8, 7, 6, 6, 6, 6, 6, 5, 5, 5, 5, 4, 4, 4, 4, 4, 4, 4, 3, 3, 3, 3, 3, 3, 2, 2, 2, 2, 2, 2, 1, 1, 1, 1, 1, 1, 1, 1, 1, 1, 1]\n"
     ]
    }
   ],
   "source": [
    "national_teams = dict()\n",
    "world_cup_matches = world_cup_matches.reset_index()\n",
    "\n",
    "for index, row in world_cup_matches.iterrows():\n",
    "  home_goals = row['Home Team Goals']\n",
    "  away_goals = row['Away Team Goals']\n",
    "  \n",
    "  winner_team = row['Home Team Name'] if home_goals > away_goals else row['Away Team Name']\n",
    "  if winner_team not in national_teams:\n",
    "    national_teams[winner_team] = 1\n",
    "  else:\n",
    "    national_teams[winner_team] += 1\n",
    "\n",
    "wins = sorted(list(national_teams.values()), reverse = True)\n",
    "national_teams = list(map(list, national_teams.items()))"
   ]
  },
  {
   "cell_type": "markdown",
   "metadata": {},
   "source": [
    "### Load"
   ]
  },
  {
   "cell_type": "code",
   "execution_count": 22,
   "metadata": {},
   "outputs": [
    {
     "name": "stdout",
     "output_type": "stream",
     "text": [
      "Brazil 75\n",
      "Argentina 54\n",
      "Italy 52\n",
      "Germany FR 37\n",
      "France 35\n"
     ]
    }
   ],
   "source": [
    "def get_national_team_with_score(score):\n",
    "  for national_team in national_teams:\n",
    "    if national_team[1] == score:\n",
    "      return national_team[0]\n",
    "  \n",
    "  return None\n",
    "\n",
    "for i in range(0, 5):\n",
    "  most_winner = max(wins)\n",
    "  wins.remove(most_winner)\n",
    "  \n",
    "  print(get_national_team_with_score(most_winner), most_winner)"
   ]
  },
  {
   "cell_type": "markdown",
   "metadata": {},
   "source": [
    "### Resultado\n",
    "com o seguinte processo, temos que, o maior vencedor de partidas de copas do mundo é o Brasil com 75 vitórias em todas as edições de copas do mundo!!!"
   ]
  }
 ],
 "metadata": {
  "kernelspec": {
   "display_name": "Python 3",
   "language": "python",
   "name": "python3"
  },
  "language_info": {
   "codemirror_mode": {
    "name": "ipython",
    "version": 3
   },
   "file_extension": ".py",
   "mimetype": "text/x-python",
   "name": "python",
   "nbconvert_exporter": "python",
   "pygments_lexer": "ipython3",
   "version": "3.11.4"
  }
 },
 "nbformat": 4,
 "nbformat_minor": 2
}
